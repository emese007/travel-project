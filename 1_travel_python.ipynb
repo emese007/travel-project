{
 "cells": [
  {
   "cell_type": "markdown",
   "id": "afa68136",
   "metadata": {},
   "source": [
    "# En voyage avec (un) python\n",
    "\n",
    "Dans ce notebook on vous propose de découvrir quelques bases de python en s'intéressant à des carnets de voyage."
   ]
  },
  {
   "cell_type": "markdown",
   "id": "bf55835c",
   "metadata": {},
   "source": [
    "### 1 – Moyenne de photos prises par jour  \n",
    "On stocke des informations sur un voyage (_variables_), on calcule le nombre de photos prises par jour, et on affiche le résumé (`print`).\n",
    "\n",
    "Les f-strings permettent de faire de l'affichage (`print`) sans utiliser de virgules si vous voulez afficher à la fois du texte et une variable.\n",
    "\n",
    "Exemple : \n",
    "\n",
    "```print(f'Ma variable est égale à {nom_de_ma_variable})```\n",
    "\n",
    "\n",
    "Les # permettent d'écrire des commentaires, c'est-à-dire des lignes qui ne font pas parties du code au moment de l'éxécution.\n",
    "\n",
    "**TODO**\n",
    "\n",
    "- Calculer le nombre moyen de photos pris par jour durant le voyage,\n",
    "- Ajouter une nouvelle variable de votre choix et un nouveau calcul de variable,\n",
    "- Utiliser cette méthode pour afficher le nombre moyen de photo prises par jour."
   ]
  },
  {
   "cell_type": "code",
   "execution_count": 2,
   "id": "b05d9e4b",
   "metadata": {},
   "outputs": [
    {
     "name": "stdout",
     "output_type": "stream",
     "text": [
      "<class 'str'>\n"
     ]
    }
   ],
   "source": [
    "# Define variables for the trip\n",
    "city = \"Montpellier\" \n",
    "\n",
    "# Plot variable type\n",
    "print(type(city)) # string = chaîne de caractères\n",
    "\n",
    "department = 34\n",
    "days_spent = 5.5 # float = nombre décimal\n",
    "photos_taken = 230 # integer = nombre entier\n",
    "great_trip = True # boolean = vrai ou faux"
   ]
  },
  {
   "cell_type": "code",
   "execution_count": 3,
   "id": "0063454a",
   "metadata": {},
   "outputs": [
    {
     "name": "stdout",
     "output_type": "stream",
     "text": [
      "True\n",
      "True\n"
     ]
    }
   ],
   "source": [
    "# Compare variables\n",
    "print(photos_taken > 200) # > est un opérateur de comparaison\n",
    "print(great_trip == True) # == is equal to, True if values are equal, False otherwise"
   ]
  },
  {
   "cell_type": "code",
   "execution_count": 5,
   "id": "4f0fbe5c",
   "metadata": {},
   "outputs": [
    {
     "name": "stdout",
     "output_type": "stream",
     "text": [
      "41.81818181818182\n",
      "72.72727272727273\n",
      "City: Montpellier\n",
      "Days Spent: 5.5\n",
      "Nombre moyen de photos prises par jour : 41.81818181818182\n",
      "Budget total : 400 €\n",
      "Budget moyen par jour : 72.72727272727273 €\n"
     ]
    }
   ],
   "source": [
    "# TODO Add new variable\n",
    "budget = 400 #en euro\n",
    "\n",
    "# TODO Calculate average photos per day\n",
    "average_photos_per_day = photos_taken / days_spent\n",
    "print(average_photos_per_day)\n",
    "\n",
    "# TODO Calculate something else using your new variable\n",
    "budget_per_day = budget / days_spent\n",
    "print(budget_per_day)\n",
    "\n",
    "\n",
    "# Print text and variables \n",
    "print(\"City:\", city)\n",
    "print(\"Days Spent:\", days_spent)\n",
    "\n",
    "\n",
    "# TODO Print average number of photo using f-strings\n",
    "print(f\"Nombre moyen de photos prises par jour : {average_photos_per_day}\")\n",
    "print(f\"Budget total : {budget} €\")\n",
    "print(f\"Budget moyen par jour : {budget_per_day} €\")\n"
   ]
  },
  {
   "cell_type": "markdown",
   "id": "dff2a6fe",
   "metadata": {},
   "source": [
    "### 2 – Analyser la météo  \n",
    "\n",
    "__Syntaxe__\n",
    "\n",
    "```\n",
    "# Si la condition_1 est True, alors faire la task_1\n",
    "if condition_1:\n",
    "    faire task_1\n",
    "# Si la condition 2 est True, alors faire la task_2\n",
    "elif condtion_2: \n",
    "    faire task_2\n",
    "# Si la condition 2 est True, alors faire la task_2\n",
    "elif condtion_3: \n",
    "    faire task_3\n",
    "# Sinon faire la task_4\n",
    "else:\n",
    "    faire task_4\n",
    "```\n",
    "\n",
    "Pour la syntaxe et des exemples de conditions, voir la partie précédente du code #Compare variables\n",
    "\n",
    "**TODO**\n",
    "\n",
    "- Créer une liste de plusieurs chaînes de caractères contenant des indications de météo [`string`, `string`].\n",
    "- Créer une variable qui indique la météo d'un jour particulier (`string`).\n",
    "- Analyser la météo et afficher un message personnalisé selon le cas ( `if`, `elif`, `else`).\n",
    "\n",
    "\n"
   ]
  },
  {
   "cell_type": "code",
   "execution_count": 6,
   "id": "61cc3382",
   "metadata": {},
   "outputs": [
    {
     "name": "stdout",
     "output_type": "stream",
     "text": [
      "Apocalypse!\n"
     ]
    }
   ],
   "source": [
    "# Set the weather condition\n",
    "weather = \"sunny\"  # string #TODO\n",
    "\n",
    "# List of accepted weather values (at least 3 different value)\n",
    "valid_weather =  [\"sunny\", \"rainy\", \"cold\"] # List #TODO\n",
    "\n",
    "# Check if the weather is in the list of valid_weather values\n",
    "if valid_weather == \"sunny\": #TODO compléter la condition : valid_weather = \"sunny\"\n",
    "\n",
    "    print(\"Take some suncream with you!\")\n",
    "    \n",
    "elif valid_weather == \"rainy\":\n",
    "\n",
    "    print(\"You will need your umbrella!\")\n",
    "\n",
    "elif valid_weather == \"cold\":\n",
    "\n",
    "    print(\"You have to stay at home!\")\n",
    "\n",
    "else: print(\"Apocalypse!\")\n",
    "\n",
    "    # TODO Test if weather is in valid_weather and display a personalized message"
   ]
  },
  {
   "cell_type": "markdown",
   "id": "8ea60ed0",
   "metadata": {},
   "source": [
    "### 3 - Un dictionnaire de voyage\n",
    "On peut stocker un voyage avec les informations associées dans un dictionnaire.\n",
    "\n",
    "__Syntaxe__\n",
    "\n",
    "\n",
    "````\n",
    "trip = {\"nom information 1\": valeur information 1, \"nom information 2\": valeur information 2}\n",
    "````\n",
    "\n",
    "- Il peut y avoir autant de paire clé/valeur que l'on souhaite.\n",
    "\n",
    "- La clé est nécéssairement une __chaîne de caractère__, la valeur de n'importe quel type (même un autre dictionnaire).\n",
    "\n",
    "\n",
    "\n",
    "````print(trip[\"nom information 1\"])```` affiche ````valeur information 1````\n",
    "\n",
    "````trip[\"nom information 1\"]) = nouvelle valeur````\n",
    "\n",
    "\n",
    "\n",
    "**TODO**\n",
    "\n",
    "- Ajouter au moins deux autres paires de clé/valeur dans le dictionnaire suivant.\n",
    "- Afficher un petit résumé du voyage, incluant un calcul du nombre moyen de photo prises par jour"
   ]
  },
  {
   "cell_type": "code",
   "execution_count": null,
   "id": "3fce9517",
   "metadata": {},
   "outputs": [
    {
     "name": "stdout",
     "output_type": "stream",
     "text": [
      "Voyage à Montpellier (34)\n",
      "Photos prises: 150\n",
      "Durée: 5.5 days\n",
      "Expenses: 200 euro\n",
      "Distance parcurue: 12 km\n",
      "Humeur: happy\n",
      "Nombre moyen des photos pris par jour: 27.272727272727273\n"
     ]
    }
   ],
   "source": [
    "# Create a dictionary for one trip\n",
    "#TODO Ajouter des paires clé-valeur de votre choix\n",
    "trip = {\n",
    "    \"city\": \"Montpellier\",\n",
    "    \"department\": 34,\n",
    "    \"photos_taken\": 150,\n",
    "    \"days_spent\": 5.5,\n",
    "    \"money_spent\": 200,\n",
    "    \"distance_acheived_km\": 12,\n",
    "    \"mood\": \"happy\"\n",
    "}\n",
    "\n",
    "# Print a trip summary #TODO \n",
    "\n",
    "print(f\"Voyage à {trip[\"city\"]} ({trip['department']})\")\n",
    "print(f\"Photos prises: {trip[\"photos_taken\"]} pièce\")\n",
    "print(f\"Durée: {trip[\"days_spent\"]} days\")\n",
    "print(f\"Expenses: {trip[\"money_spent\"]} euro\")\n",
    "print(f\"Distance parcurue: {trip[\"distance_acheived_km\"]} km\")\n",
    "print(f\"Humeur: {trip[\"mood\"]}\")\n",
    "\n",
    "print(f\"Nombre moyen des photos pris par jour: {trip[\"photos_taken\"] / trip[\"days_spent\"]}\")\n"
   ]
  },
  {
   "cell_type": "markdown",
   "id": "87488af5",
   "metadata": {},
   "source": [
    "### 4 - Carnet de voyage  \n",
    "\n",
    "On stocke plusieurs voyages dans une liste et on les affiche un à un.\n",
    "\n",
    "On peut parcourir tous les éléments d'une liste en faisant une boucle ```for```.\n",
    "\n",
    "__Syntaxe__\n",
    "\n",
    "\n",
    "````\n",
    "my_list = [element_1, element_2]\n",
    "for element in my_list:\n",
    "    print(element)\n",
    "````\n",
    "\n",
    "**TODO**\n",
    "- Afficher un élément de la liste. Ex : `my_list[0]` affiche le premier élément\n",
    "- Compter le nombre de voyage en utilisant `len(my_list)`\n",
    "- Pour chaque voyage de la liste, afficher un court résumé incluant un calcul du nombre moyen de photo prises par jour"
   ]
  },
  {
   "cell_type": "code",
   "execution_count": 40,
   "id": "291fc9ec",
   "metadata": {},
   "outputs": [
    {
     "name": "stdout",
     "output_type": "stream",
     "text": [
      "{'city': 'Marseille', 'department': 13, 'photos_taken': 380, 'days_spent': 5, 'money_spent': 750, 'distance_acheived_km': 32, 'mood': 'joyful'}\n",
      "4\n",
      "Travel Journal:\n",
      "{'city': 'Montpellier', 'department': 34, 'photos_taken': 150, 'days_spent': 5.5, 'money_spent': 200, 'distance_acheived_km': 12, 'mood': 'happy'}\n",
      "{'city': 'Paris', 'department': 75, 'photos_taken': 260, 'days_spent': 3, 'money_spent': 260, 'distance_acheived_km': 20, 'mood': 'exited'}\n",
      "{'city': 'Lyon', 'department': 69, 'photos_taken': 100, 'days_spent': 2, 'money_spent': 470, 'distance_acheived_km': 15, 'mood': 'relaxed'}\n",
      "{'city': 'Marseille', 'department': 13, 'photos_taken': 380, 'days_spent': 5, 'money_spent': 750, 'distance_acheived_km': 32, 'mood': 'joyful'}\n",
      "{'city': 'Montpellier', 'department': 34, 'photos_taken': 150, 'days_spent': 5.5, 'money_spent': 200, 'distance_acheived_km': 12, 'mood': 'happy'}\n",
      "{'city': 'Paris', 'department': 75, 'photos_taken': 260, 'days_spent': 3, 'money_spent': 260, 'distance_acheived_km': 20, 'mood': 'exited'}\n",
      "{'city': 'Lyon', 'department': 69, 'photos_taken': 100, 'days_spent': 2, 'money_spent': 470, 'distance_acheived_km': 15, 'mood': 'relaxed'}\n",
      "{'city': 'Marseille', 'department': 13, 'photos_taken': 380, 'days_spent': 5, 'money_spent': 750, 'distance_acheived_km': 32, 'mood': 'joyful'}\n"
     ]
    }
   ],
   "source": [
    "# TODO Add new trips to the list of trips\n",
    "\n",
    "trip = {\n",
    "    \"city\": \"Montpellier\",\n",
    "    \"department\": 34,\n",
    "    \"photos_taken\": 150,\n",
    "    \"days_spent\": 5.5,\n",
    "    \"money_spent\": 200,\n",
    "    \"distance_acheived_km\": 12,\n",
    "    \"mood\": \"happy\"\n",
    "}\n",
    "\n",
    "trip2 = {\n",
    "    \"city\": \"Paris\",\n",
    "    \"department\": 75,\n",
    "    \"photos_taken\": 260,\n",
    "    \"days_spent\": 3,\n",
    "    \"money_spent\": 260,\n",
    "    \"distance_acheived_km\": 20,\n",
    "    \"mood\": \"exited\"\n",
    "}\n",
    "\n",
    "trip3 = {\n",
    "    \"city\": \"Lyon\",\n",
    "    \"department\": 69,\n",
    "    \"photos_taken\": 100,\n",
    "    \"days_spent\": 2,\n",
    "    \"money_spent\": 470,\n",
    "    \"distance_acheived_km\": 15,\n",
    "    \"mood\": \"relaxed\"\n",
    "}\n",
    "\n",
    "trip4 = {\n",
    "    \"city\": \"Marseille\",\n",
    "    \"department\": 13,\n",
    "    \"photos_taken\": 380,\n",
    "    \"days_spent\": 5,\n",
    "    \"money_spent\": 750,\n",
    "    \"distance_acheived_km\": 32,\n",
    "    \"mood\": \"joyful\"\n",
    "}\n",
    "trip_list = [trip, trip2, trip3, trip4]\n",
    "\n",
    "# TODO Print one element of the trip_list\n",
    "print(trip_list[3])\n",
    "\n",
    "# TODO Print the number of trips in the trip_list\n",
    "print(len(trip_list))\n",
    "\n",
    "# Loop through and print each trip\n",
    "print(\"Travel Journal:\")\n",
    "print(trip)\n",
    "print(trip2)\n",
    "print(trip3)\n",
    "print(trip4)\n",
    "\n",
    "# TODO Loop through trip_list and print each trip\n",
    "for trips in trip_list:\n",
    "    print(trips)"
   ]
  },
  {
   "cell_type": "markdown",
   "id": "4d0ea091",
   "metadata": {},
   "source": [
    "### 5 - Utiliser des fonctions \n",
    "On a écrit plusieurs fois le numéro du département de Montpellier. On sait qu'il ne va pas changer au cours du projet, dans ce cas une bonne pratique pour savoir de quoi on parle et d'éviter les erreurs de recopie est de définir une variable en début de projet qu'on pourra réutiliser dés que nécessaire :\n",
    "\n",
    "```DEPARTEMENT = 34```\n",
    "\n",
    "On a également écrit plein de fois le calcul du nombre de photos par jour. On peut créer une fonction que l'on pourra réutiliser dés que nécessairequi prendra en entrée un voyage, qui fera le calcul et qui retournera le nombre moyen de photo.\n",
    "\n",
    "Après le nom de la fonction, on ajoute entre \"\"\" de la documentation sur les paramètres d'entrée (type et explication) et sur les sorties \"\"\"."
   ]
  },
  {
   "cell_type": "code",
   "execution_count": null,
   "id": "1724eb3a",
   "metadata": {},
   "outputs": [
    {
     "ename": "IndentationError",
     "evalue": "unindent does not match any outer indentation level (<string>, line 17)",
     "output_type": "error",
     "traceback": [
      "  \u001b[36mFile \u001b[39m\u001b[32m<string>:17\u001b[39m\n\u001b[31m    \u001b[39m\u001b[31mreturn trip['photos_taken'] / trip['days_spent']\u001b[39m\n                                                    ^\n\u001b[31mIndentationError\u001b[39m\u001b[31m:\u001b[39m unindent does not match any outer indentation level\n"
     ]
    }
   ],
   "source": [
    "def compute_average_photos_per_day(trip):\n",
    "    \"\"\"\n",
    "    Calculate the average number of photos taken per day for a trip.\n",
    "\n",
    "    Parameters\n",
    "    ----------\n",
    "    trip (dict)\n",
    "        Dictionary containing trip details including 'photos_taken' and 'days_spent'.   \n",
    "\n",
    "    Returns\n",
    "    -------\n",
    "    float\n",
    "        Average number of photos taken per day.\n",
    "    \"\"\"\n",
    "        return trip['photos_taken'] / trip['days_spent']\n",
    "    \n",
    "# Example usage\n",
    "trip_example = {\n",
    "    \"city\": \"Montpellier\",\n",
    "    \"department\": 34,\n",
    "    \"photos_taken\": 150,\n",
    "    \"days_spent\": 5.5,\n",
    "}\n",
    "average_photos = compute_average_photos_per_day(trip_example)"
   ]
  },
  {
   "cell_type": "markdown",
   "id": "bac621fe",
   "metadata": {},
   "source": [
    "**TODO**\n",
    "\n",
    "- Tester la fonction dans le case où ````photos_taken = 0````\n",
    "- Lire l'erreur\n",
    "- Adapter la fonction en utilisant une condition (if, else) pour renvoyer 0 dans ce cas."
   ]
  },
  {
   "cell_type": "code",
   "execution_count": null,
   "id": "2caeba0f",
   "metadata": {},
   "outputs": [
    {
     "name": "stdout",
     "output_type": "stream",
     "text": [
      "0.0\n"
     ]
    }
   ],
   "source": [
    "# TODO Test function with a trip that has 0 photos\n",
    "\n",
    "def compute_average_photos_per_day(trip):\n",
    "    return trip['photos_taken'] / trip['days_spent']\n",
    "\n",
    "trip_zero_photos = {\n",
    "    \"city\": \"Montpellier\",\n",
    "    \"department\": 34,\n",
    "    \"photos_taken\": 0,\n",
    "    \"days_spent\": 5.5,\n",
    "}\n",
    "\n",
    "print(compute_average_photos_per_day(trip_zero_photos))\n"
   ]
  },
  {
   "cell_type": "code",
   "execution_count": 78,
   "id": "1ea11ba0",
   "metadata": {},
   "outputs": [
    {
     "name": "stdout",
     "output_type": "stream",
     "text": [
      "666.6666666666666\n"
     ]
    }
   ],
   "source": [
    "def compute_average_photos_per_day(trip):\n",
    "    average_number = trip[\"photos_taken\"] / trip[\"days_spent\"]\n",
    "    print(average_number)\n",
    "    if trip[\"photos_taken\"] == 0:\n",
    "        print(0)\n",
    "    \"\"\"\n",
    "    Calculate the average number of photos taken per day for a trip.\n",
    "\n",
    "    Parameters\n",
    "    ----------\n",
    "    trip (dict)\n",
    "        Dictionary containing trip details including 'photos_taken' and 'days_spent'.   \n",
    "\n",
    "    Returns\n",
    "    -------\n",
    "    float\n",
    "        Average number of photos taken per day. If 'photos_taken' is 0, returns 0.\n",
    "    \"\"\"\n",
    "result = compute_average_photos_per_day(trip2)"
   ]
  },
  {
   "cell_type": "markdown",
   "id": "bac9b0ad",
   "metadata": {},
   "source": [
    "### 6 - Compter les villes uniques visitées  \n",
    "Au lieu d'utiliser une boucle `for` pour parcourir les éléments d'une liste, on peut utiliser la **compréhension de liste**.\n",
    "\n",
    "__Exemple__\n",
    "\n",
    "\n",
    "```\n",
    "my_list = [100, 200, 300]\n",
    "comprehension_list = [value / 10 for value in my_list]\n",
    "comprehension_list\n",
    ">> [10.0, 20.0, 30.0]\n",
    "```\n",
    "\n",
    "**TODO**\n",
    "- Afficher la liste `trip_list` définie précédemment, vérifier qu'elle contient plusieurs villes différentes.\n",
    "- Créer la liste `cities` en adaptant l'exemple ci-dessus.\n",
    "- Affiche le nombre de villes différentes visitées, sans doublon. Utiliser `set(my_liste)`qui permet de conserver les éléments uniques d'une liste."
   ]
  },
  {
   "cell_type": "code",
   "execution_count": 53,
   "id": "2915a507",
   "metadata": {},
   "outputs": [
    {
     "name": "stdout",
     "output_type": "stream",
     "text": [
      "[{'city': 'Montpellier', 'department': 34, 'photos_taken': 150, 'days_spent': 5.5, 'money_spent': 200, 'distance_acheived_km': 12, 'mood': 'happy'}, {'city': 'Paris', 'department': 75, 'photos_taken': 260, 'days_spent': 3, 'money_spent': 260, 'distance_acheived_km': 20, 'mood': 'exited'}, {'city': 'Lyon', 'department': 69, 'photos_taken': 100, 'days_spent': 2, 'money_spent': 470, 'distance_acheived_km': 15, 'mood': 'relaxed'}, {'city': 'Marseille', 'department': 13, 'photos_taken': 380, 'days_spent': 5, 'money_spent': 750, 'distance_acheived_km': 32, 'mood': 'joyful'}]\n"
     ]
    }
   ],
   "source": [
    "# TODO Print trip_list\n",
    "print(trip_list)"
   ]
  },
  {
   "cell_type": "code",
   "execution_count": 58,
   "id": "ae25986e",
   "metadata": {},
   "outputs": [
    {
     "name": "stdout",
     "output_type": "stream",
     "text": [
      "{'Marseille', 'Paris', 'Montpellier', 'Lyon'}\n"
     ]
    }
   ],
   "source": [
    "# TODO Extract all visited cities\n",
    "cities = [trip[\"city\"] for trip in trip_list]\n",
    "\n",
    "# TODO Create a set to get unique cities\n",
    "unique_cities = set(cities)\n",
    "\n",
    "# Print the number of unique cities\n",
    "print(unique_cities)\n"
   ]
  },
  {
   "cell_type": "markdown",
   "id": "11c13169",
   "metadata": {},
   "source": [
    "### 7 - Trier les voyages par nombre de photos  \n",
    "\n",
    "**TODO**\n",
    "- Afficher les voyages du plus photographié au moins photographié. Utiliser la fonction [sorted](https://docs.python.org/3/library/functions.html#sorted) en allant lire la documentation de fonction."
   ]
  },
  {
   "cell_type": "code",
   "execution_count": 60,
   "id": "ac2706fa",
   "metadata": {},
   "outputs": [
    {
     "name": "stdout",
     "output_type": "stream",
     "text": [
      "Voyages du plus au moins photographié :\n",
      "Marseille: 380 photos\n",
      "Paris: 260 photos\n",
      "Montpellier: 150 photos\n",
      "Lyon: 100 photos\n"
     ]
    }
   ],
   "source": [
    "# TODO Print trips from the most photographed to the least photographed\n",
    "sorted_trips = sorted(trip_list, key=lambda t: t[\"photos_taken\"], reverse=True)\n",
    "\n",
    "print(\"Voyages du plus au moins photographié :\")\n",
    "for i in sorted_trips:\n",
    "    print(f\"{i['city']}: {i['photos_taken']} photos\")\n"
   ]
  }
 ],
 "metadata": {
  "kernelspec": {
   "display_name": ".venv",
   "language": "python",
   "name": "python3"
  },
  "language_info": {
   "codemirror_mode": {
    "name": "ipython",
    "version": 3
   },
   "file_extension": ".py",
   "mimetype": "text/x-python",
   "name": "python",
   "nbconvert_exporter": "python",
   "pygments_lexer": "ipython3",
   "version": "3.12.3"
  }
 },
 "nbformat": 4,
 "nbformat_minor": 5
}
