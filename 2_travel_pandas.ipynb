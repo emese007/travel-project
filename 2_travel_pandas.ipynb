{
 "cells": [
  {
   "cell_type": "markdown",
   "metadata": {},
   "source": [
    "# En voyage avec (des) pandas\n",
    "\n",
    "Suite à la première étape où vous avez découvert (ou révisé) des bases de Python, vous allez découvrir (ou réviser) l'utilisation de la bibliothèque **pandas** pour traiter un fichier csv travel_data.csv qui contient un carnet de voyage.\n",
    "\n",
    "Pour réaliser les exercices, utilisez la documentation officielle de pandas :  \n",
    "https://pandas.pydata.org/pandas-docs/stable/\n",
    "\n",
    "N'hésitez pas à rechercher les fonctions, méthodes et exemples nécessaires pour compléter les tâches demandées.  \n",
    "\n",
    "Chaque cellule de code est précédée d'une cellule TODO indiquant la liste des objectifs à atteindre.\n",
    "\n",
    "Répondez également dans le notebook aux petites questions proposées."
   ]
  },
  {
   "cell_type": "code",
   "execution_count": 10,
   "id": "b5c50044",
   "metadata": {},
   "outputs": [
    {
     "name": "stdout",
     "output_type": "stream",
     "text": [
      "Requirement already satisfied: pandas in ./.venv/lib/python3.12/site-packages (2.3.0)\n",
      "Requirement already satisfied: numpy>=1.26.0 in ./.venv/lib/python3.12/site-packages (from pandas) (2.3.1)\n",
      "Requirement already satisfied: python-dateutil>=2.8.2 in ./.venv/lib/python3.12/site-packages (from pandas) (2.9.0.post0)\n",
      "Requirement already satisfied: pytz>=2020.1 in ./.venv/lib/python3.12/site-packages (from pandas) (2025.2)\n",
      "Requirement already satisfied: tzdata>=2022.7 in ./.venv/lib/python3.12/site-packages (from pandas) (2025.2)\n",
      "Requirement already satisfied: six>=1.5 in ./.venv/lib/python3.12/site-packages (from python-dateutil>=2.8.2->pandas) (1.17.0)\n"
     ]
    }
   ],
   "source": [
    "# Il faut installer la bibliothèque pandas. On verra comment faire ça proprement plus tard.\n",
    "!pip install pandas\n"
   ]
  },
  {
   "cell_type": "markdown",
   "metadata": {},
   "source": [
    "# 1. Charger et afficher les données\n",
    "\n",
    "**TODO**\n",
    "\n",
    "- Importer la bibliothèque pandas sous l’alias `pd`  \n",
    "- Charger le fichier `travel_journal.csv` dans un DataFrame `df_trips`  \n",
    "- Afficher les 5 premières lignes du DataFrame  \n",
    "- Afficher les types de données des colonnes"
   ]
  },
  {
   "cell_type": "code",
   "execution_count": null,
   "metadata": {},
   "outputs": [],
   "source": [
    "# Write your code here\n",
    "\n",
    "import pandas as pd\n",
    "df_trips = pd.read_csv('/home/emese/python_projet/travel-project/travel_data.csv')\n",
    "print(df_trips.head())\n",
    "print(df_trips.dtypes)"
   ]
  },
  {
   "cell_type": "markdown",
   "metadata": {},
   "source": [
    "# 2. Nettoyer les données manquantes\n",
    "\n",
    "**TODO**\n",
    "\n",
    "- Identifier les lignes avec des valeurs manquantes dans le DataFrame  \n",
    "- Remplacer les valeurs manquantes dans la colonne `weather` par `\"unknown\"`  \n",
    "- Convertir la colonne `date` en format datetime  \n",
    "- Trier le DataFrame par date croissante\n",
    "- Exporter les données dans un fichier clean_travel_data.csv\n",
    "- A votre avis quel autre type de vérifications pourrait-on faire afin de nettoyer les données ?"
   ]
  },
  {
   "cell_type": "code",
   "execution_count": null,
   "metadata": {},
   "outputs": [],
   "source": [
    "# Write your code here\n",
    "\n",
    "import pandas as pd\n",
    "df_trips = pd.read_csv('/home/emese/python_projet/travel-project/travel_data.csv')\n",
    "\n",
    "null_values = df_trips.isnull()\n",
    "df_trips['weather'] = df_trips['weather'].fillna('unknown')\n",
    "df_trips['date'] = pd.to_datetime(df_trips['date'], format='mixed')\n",
    "df_trips.sort_values(by='date')\n",
    "\n",
    "df_trips.to_csv('clean_travel_data.csv', index=False, encoding='utf-8')\n"
   ]
  },
  {
   "cell_type": "markdown",
   "metadata": {},
   "source": [
    "# 3. Filtrer et trier les voyages\n",
    "\n",
    "**TODO**\n",
    "\n",
    "- Extraire les voyages où la météo est `\"sunny\"` et le nombre de photos est supérieur à 100  \n",
    "- Trier ces voyages par nombre de photos décroissant  \n",
    "- Afficher les colonnes `city`, `date`, `photos` du résultat filtré"
   ]
  },
  {
   "cell_type": "code",
   "execution_count": null,
   "metadata": {},
   "outputs": [
    {
     "name": "stdout",
     "output_type": "stream",
     "text": [
      "          city        date  photos\n",
      "3     Bordeaux  2024-06-20     200\n",
      "4         Nice  2024-07-12     180\n",
      "0        Paris  2024-03-15     150\n",
      "8  Montpellier  2024-11-25     110\n"
     ]
    }
   ],
   "source": [
    "# Write your code here\n",
    "\n",
    "import pandas as pd\n",
    "df_trips = pd.read_csv('travel_data.csv')\n",
    "\n",
    "\n",
    "filtered = df_trips[(df_trips[\"weather\"] == \"sunny\") & (df_trips[\"photos\"] > 100)]\n",
    "sorted_df_trips = filtered.sort_values(by=\"photos\", ascending=False)\n",
    "result = sorted_df_trips[[\"city\", \"date\", \"photos\"]]\n",
    "\n",
    "print(sorted_df_trips[[\"city\", \"date\", \"photos\"]])\n"
   ]
  },
  {
   "cell_type": "markdown",
   "metadata": {},
   "source": [
    "# 4. Groupements et agrégations\n",
    "\n",
    "**TODO**\n",
    "\n",
    "- Calculer le total des photos prises par ville  \n",
    "- Calculer la moyenne des photos selon la météo  \n",
    "- Compter le nombre de voyages par humeur (mood)"
   ]
  },
  {
   "cell_type": "code",
   "execution_count": null,
   "metadata": {},
   "outputs": [
    {
     "name": "stdout",
     "output_type": "stream",
     "text": [
      "city\n",
      "Bordeaux       230\n",
      "Grenoble         5\n",
      "Lyon           175\n",
      "Marseille      100\n",
      "Montpellier    145\n",
      "Nantes         135\n",
      "Nice           220\n",
      "Paris          280\n",
      "Strasbourg      75\n",
      "Toulouse       175\n",
      "Name: photos, dtype: int64\n",
      "weather\n",
      "cloudy     88.75\n",
      "rainy      31.25\n",
      "snowy       2.50\n",
      "sunny     120.00\n",
      "Name: photos, dtype: float64\n",
      "mood\n",
      "happy         3\n",
      "excited       3\n",
      "curious       2\n",
      "sad           2\n",
      "relaxed       2\n",
      "thoughtful    2\n",
      "calm          2\n",
      "joyful        2\n",
      "cold          1\n",
      "bored         1\n",
      "Name: count, dtype: int64\n"
     ]
    }
   ],
   "source": [
    "# Write your code here\n",
    "\n",
    "import pandas as pd\n",
    "df_trips = pd.read_csv('travel_data.csv')\n",
    "\n",
    "total_photos_by_city = df_trips.groupby(\"city\")[\"photos\"].sum()\n",
    "print(total_photos_by_city)\n",
    "average_photos_by_weather = df_trips.groupby(\"weather\")[\"photos\"].mean()\n",
    "print(average_photos_by_weather)\n",
    "mood_counts = df_trips[\"mood\"].value_counts()\n",
    "print(mood_counts)\n"
   ]
  }
 ],
 "metadata": {
  "kernelspec": {
   "display_name": ".venv",
   "language": "python",
   "name": "python3"
  },
  "language_info": {
   "codemirror_mode": {
    "name": "ipython",
    "version": 3
   },
   "file_extension": ".py",
   "mimetype": "text/x-python",
   "name": "python",
   "nbconvert_exporter": "python",
   "pygments_lexer": "ipython3",
   "version": "3.12.3"
  }
 },
 "nbformat": 4,
 "nbformat_minor": 5
}
